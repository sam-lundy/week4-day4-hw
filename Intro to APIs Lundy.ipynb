{
 "cells": [
  {
   "cell_type": "markdown",
   "id": "7196054f",
   "metadata": {},
   "source": [
    "# Working with APIs"
   ]
  },
  {
   "cell_type": "markdown",
   "id": "0547b71e",
   "metadata": {},
   "source": [
    "API stands for Application programming interface<br>\n",
    "APIs are a way for applications to talk to eachother<br>\n",
    "In python we use the requests package to handle the connection<br>\n",
    "<small><strong>Note: It is requests with an s not request(this is a different package)</strong></small><br>\n",
    "Most API's communicate with data in the form of JSON<br>\n",
    "JSON stands for JavaScript Object Notation"
   ]
  },
  {
   "attachments": {},
   "cell_type": "markdown",
   "id": "cc80a1f0",
   "metadata": {},
   "source": [
    "### importing requests module"
   ]
  },
  {
   "cell_type": "code",
   "execution_count": 1,
   "id": "4db9d154",
   "metadata": {},
   "outputs": [],
   "source": [
    "import requests"
   ]
  },
  {
   "cell_type": "markdown",
   "id": "e8c2ce51",
   "metadata": {},
   "source": [
    "We will be connecting to the Ergast F1 Racer API today:\n",
    "http://ergast.com/mrd/\n",
    "\n",
    "to view JSON data nicely in the Chrome browser install the extension JSONview"
   ]
  },
  {
   "cell_type": "code",
   "execution_count": 2,
   "id": "52c440c6",
   "metadata": {},
   "outputs": [],
   "source": [
    "# Make sure to attach extension .json at the end of url\n",
    "url = 'https://ergast.com/api/f1/2022/5/driverStandings.json'"
   ]
  },
  {
   "attachments": {},
   "cell_type": "markdown",
   "id": "1f8dc8b3",
   "metadata": {},
   "source": [
    "### using the request package to access data from api/url"
   ]
  },
  {
   "cell_type": "code",
   "execution_count": 4,
   "id": "f60c1b4a",
   "metadata": {},
   "outputs": [],
   "source": [
    "response = requests.get(url)"
   ]
  },
  {
   "attachments": {},
   "cell_type": "markdown",
   "id": "52f840a9",
   "metadata": {},
   "source": [
    "### checking and making sure we got a successful response from our API\n",
    "#### status codes: 200 = ok/successful, 400 = bad/unsuccessful"
   ]
  },
  {
   "cell_type": "code",
   "execution_count": 5,
   "id": "7b63a204",
   "metadata": {},
   "outputs": [
    {
     "data": {
      "text/plain": [
       "200"
      ]
     },
     "execution_count": 5,
     "metadata": {},
     "output_type": "execute_result"
    }
   ],
   "source": [
    "response.ok\n",
    "response.status_code"
   ]
  },
  {
   "attachments": {},
   "cell_type": "markdown",
   "id": "bc3fa89d",
   "metadata": {},
   "source": [
    "### view the response as a JSON with .json()"
   ]
  },
  {
   "cell_type": "code",
   "execution_count": 6,
   "id": "ed4d3256",
   "metadata": {},
   "outputs": [],
   "source": [
    "data = response.json()"
   ]
  },
  {
   "attachments": {},
   "cell_type": "markdown",
   "id": "3b49045f",
   "metadata": {},
   "source": [
    "### Get the Driver Standings Data from JSON"
   ]
  },
  {
   "cell_type": "code",
   "execution_count": 7,
   "id": "f074dfcf",
   "metadata": {},
   "outputs": [
    {
     "name": "stdout",
     "output_type": "stream",
     "text": [
      "[{'position': '1', 'positionText': '1', 'points': '104', 'wins': '2', 'Driver': {'driverId': 'leclerc', 'permanentNumber': '16', 'code': 'LEC', 'url': 'http://en.wikipedia.org/wiki/Charles_Leclerc', 'givenName': 'Charles', 'familyName': 'Leclerc', 'dateOfBirth': '1997-10-16', 'nationality': 'Monegasque'}, 'Constructors': [{'constructorId': 'ferrari', 'url': 'http://en.wikipedia.org/wiki/Scuderia_Ferrari', 'name': 'Ferrari', 'nationality': 'Italian'}]}, {'position': '2', 'positionText': '2', 'points': '85', 'wins': '3', 'Driver': {'driverId': 'max_verstappen', 'permanentNumber': '33', 'code': 'VER', 'url': 'http://en.wikipedia.org/wiki/Max_Verstappen', 'givenName': 'Max', 'familyName': 'Verstappen', 'dateOfBirth': '1997-09-30', 'nationality': 'Dutch'}, 'Constructors': [{'constructorId': 'red_bull', 'url': 'http://en.wikipedia.org/wiki/Red_Bull_Racing', 'name': 'Red Bull', 'nationality': 'Austrian'}]}, {'position': '3', 'positionText': '3', 'points': '66', 'wins': '0', 'Driver': {'driverId': 'perez', 'permanentNumber': '11', 'code': 'PER', 'url': 'http://en.wikipedia.org/wiki/Sergio_P%C3%A9rez', 'givenName': 'Sergio', 'familyName': 'Pérez', 'dateOfBirth': '1990-01-26', 'nationality': 'Mexican'}, 'Constructors': [{'constructorId': 'red_bull', 'url': 'http://en.wikipedia.org/wiki/Red_Bull_Racing', 'name': 'Red Bull', 'nationality': 'Austrian'}]}, {'position': '4', 'positionText': '4', 'points': '59', 'wins': '0', 'Driver': {'driverId': 'russell', 'permanentNumber': '63', 'code': 'RUS', 'url': 'http://en.wikipedia.org/wiki/George_Russell_(racing_driver)', 'givenName': 'George', 'familyName': 'Russell', 'dateOfBirth': '1998-02-15', 'nationality': 'British'}, 'Constructors': [{'constructorId': 'mercedes', 'url': 'http://en.wikipedia.org/wiki/Mercedes-Benz_in_Formula_One', 'name': 'Mercedes', 'nationality': 'German'}]}, {'position': '5', 'positionText': '5', 'points': '53', 'wins': '0', 'Driver': {'driverId': 'sainz', 'permanentNumber': '55', 'code': 'SAI', 'url': 'http://en.wikipedia.org/wiki/Carlos_Sainz_Jr.', 'givenName': 'Carlos', 'familyName': 'Sainz', 'dateOfBirth': '1994-09-01', 'nationality': 'Spanish'}, 'Constructors': [{'constructorId': 'ferrari', 'url': 'http://en.wikipedia.org/wiki/Scuderia_Ferrari', 'name': 'Ferrari', 'nationality': 'Italian'}]}, {'position': '6', 'positionText': '6', 'points': '36', 'wins': '0', 'Driver': {'driverId': 'hamilton', 'permanentNumber': '44', 'code': 'HAM', 'url': 'http://en.wikipedia.org/wiki/Lewis_Hamilton', 'givenName': 'Lewis', 'familyName': 'Hamilton', 'dateOfBirth': '1985-01-07', 'nationality': 'British'}, 'Constructors': [{'constructorId': 'mercedes', 'url': 'http://en.wikipedia.org/wiki/Mercedes-Benz_in_Formula_One', 'name': 'Mercedes', 'nationality': 'German'}]}, {'position': '7', 'positionText': '7', 'points': '35', 'wins': '0', 'Driver': {'driverId': 'norris', 'permanentNumber': '4', 'code': 'NOR', 'url': 'http://en.wikipedia.org/wiki/Lando_Norris', 'givenName': 'Lando', 'familyName': 'Norris', 'dateOfBirth': '1999-11-13', 'nationality': 'British'}, 'Constructors': [{'constructorId': 'mclaren', 'url': 'http://en.wikipedia.org/wiki/McLaren', 'name': 'McLaren', 'nationality': 'British'}]}, {'position': '8', 'positionText': '8', 'points': '30', 'wins': '0', 'Driver': {'driverId': 'bottas', 'permanentNumber': '77', 'code': 'BOT', 'url': 'http://en.wikipedia.org/wiki/Valtteri_Bottas', 'givenName': 'Valtteri', 'familyName': 'Bottas', 'dateOfBirth': '1989-08-28', 'nationality': 'Finnish'}, 'Constructors': [{'constructorId': 'alfa', 'url': 'http://en.wikipedia.org/wiki/Alfa_Romeo_in_Formula_One', 'name': 'Alfa Romeo', 'nationality': 'Swiss'}]}, {'position': '9', 'positionText': '9', 'points': '24', 'wins': '0', 'Driver': {'driverId': 'ocon', 'permanentNumber': '31', 'code': 'OCO', 'url': 'http://en.wikipedia.org/wiki/Esteban_Ocon', 'givenName': 'Esteban', 'familyName': 'Ocon', 'dateOfBirth': '1996-09-17', 'nationality': 'French'}, 'Constructors': [{'constructorId': 'alpine', 'url': 'http://en.wikipedia.org/wiki/Alpine_F1_Team', 'name': 'Alpine F1 Team', 'nationality': 'French'}]}, {'position': '10', 'positionText': '10', 'points': '15', 'wins': '0', 'Driver': {'driverId': 'kevin_magnussen', 'permanentNumber': '20', 'code': 'MAG', 'url': 'http://en.wikipedia.org/wiki/Kevin_Magnussen', 'givenName': 'Kevin', 'familyName': 'Magnussen', 'dateOfBirth': '1992-10-05', 'nationality': 'Danish'}, 'Constructors': [{'constructorId': 'haas', 'url': 'http://en.wikipedia.org/wiki/Haas_F1_Team', 'name': 'Haas F1 Team', 'nationality': 'American'}]}, {'position': '11', 'positionText': '11', 'points': '11', 'wins': '0', 'Driver': {'driverId': 'ricciardo', 'permanentNumber': '3', 'code': 'RIC', 'url': 'http://en.wikipedia.org/wiki/Daniel_Ricciardo', 'givenName': 'Daniel', 'familyName': 'Ricciardo', 'dateOfBirth': '1989-07-01', 'nationality': 'Australian'}, 'Constructors': [{'constructorId': 'mclaren', 'url': 'http://en.wikipedia.org/wiki/McLaren', 'name': 'McLaren', 'nationality': 'British'}]}, {'position': '12', 'positionText': '12', 'points': '10', 'wins': '0', 'Driver': {'driverId': 'tsunoda', 'permanentNumber': '22', 'code': 'TSU', 'url': 'http://en.wikipedia.org/wiki/Yuki_Tsunoda', 'givenName': 'Yuki', 'familyName': 'Tsunoda', 'dateOfBirth': '2000-05-11', 'nationality': 'Japanese'}, 'Constructors': [{'constructorId': 'alphatauri', 'url': 'http://en.wikipedia.org/wiki/Scuderia_AlphaTauri', 'name': 'AlphaTauri', 'nationality': 'Italian'}]}, {'position': '13', 'positionText': '13', 'points': '6', 'wins': '0', 'Driver': {'driverId': 'gasly', 'permanentNumber': '10', 'code': 'GAS', 'url': 'http://en.wikipedia.org/wiki/Pierre_Gasly', 'givenName': 'Pierre', 'familyName': 'Gasly', 'dateOfBirth': '1996-02-07', 'nationality': 'French'}, 'Constructors': [{'constructorId': 'alphatauri', 'url': 'http://en.wikipedia.org/wiki/Scuderia_AlphaTauri', 'name': 'AlphaTauri', 'nationality': 'Italian'}]}, {'position': '14', 'positionText': '14', 'points': '4', 'wins': '0', 'Driver': {'driverId': 'vettel', 'permanentNumber': '5', 'code': 'VET', 'url': 'http://en.wikipedia.org/wiki/Sebastian_Vettel', 'givenName': 'Sebastian', 'familyName': 'Vettel', 'dateOfBirth': '1987-07-03', 'nationality': 'German'}, 'Constructors': [{'constructorId': 'aston_martin', 'url': 'http://en.wikipedia.org/wiki/Aston_Martin_in_Formula_One', 'name': 'Aston Martin', 'nationality': 'British'}]}, {'position': '15', 'positionText': '15', 'points': '3', 'wins': '0', 'Driver': {'driverId': 'albon', 'permanentNumber': '23', 'code': 'ALB', 'url': 'http://en.wikipedia.org/wiki/Alexander_Albon', 'givenName': 'Alexander', 'familyName': 'Albon', 'dateOfBirth': '1996-03-23', 'nationality': 'Thai'}, 'Constructors': [{'constructorId': 'williams', 'url': 'http://en.wikipedia.org/wiki/Williams_Grand_Prix_Engineering', 'name': 'Williams', 'nationality': 'British'}]}, {'position': '16', 'positionText': '16', 'points': '2', 'wins': '0', 'Driver': {'driverId': 'alonso', 'permanentNumber': '14', 'code': 'ALO', 'url': 'http://en.wikipedia.org/wiki/Fernando_Alonso', 'givenName': 'Fernando', 'familyName': 'Alonso', 'dateOfBirth': '1981-07-29', 'nationality': 'Spanish'}, 'Constructors': [{'constructorId': 'alpine', 'url': 'http://en.wikipedia.org/wiki/Alpine_F1_Team', 'name': 'Alpine F1 Team', 'nationality': 'French'}]}, {'position': '17', 'positionText': '17', 'points': '2', 'wins': '0', 'Driver': {'driverId': 'stroll', 'permanentNumber': '18', 'code': 'STR', 'url': 'http://en.wikipedia.org/wiki/Lance_Stroll', 'givenName': 'Lance', 'familyName': 'Stroll', 'dateOfBirth': '1998-10-29', 'nationality': 'Canadian'}, 'Constructors': [{'constructorId': 'aston_martin', 'url': 'http://en.wikipedia.org/wiki/Aston_Martin_in_Formula_One', 'name': 'Aston Martin', 'nationality': 'British'}]}, {'position': '18', 'positionText': '18', 'points': '1', 'wins': '0', 'Driver': {'driverId': 'zhou', 'permanentNumber': '24', 'code': 'ZHO', 'url': 'http://en.wikipedia.org/wiki/Zhou_Guanyu', 'givenName': 'Guanyu', 'familyName': 'Zhou', 'dateOfBirth': '1999-05-30', 'nationality': 'Chinese'}, 'Constructors': [{'constructorId': 'alfa', 'url': 'http://en.wikipedia.org/wiki/Alfa_Romeo_in_Formula_One', 'name': 'Alfa Romeo', 'nationality': 'Swiss'}]}, {'position': '19', 'positionText': '19', 'points': '0', 'wins': '0', 'Driver': {'driverId': 'mick_schumacher', 'permanentNumber': '47', 'code': 'MSC', 'url': 'http://en.wikipedia.org/wiki/Mick_Schumacher', 'givenName': 'Mick', 'familyName': 'Schumacher', 'dateOfBirth': '1999-03-22', 'nationality': 'German'}, 'Constructors': [{'constructorId': 'haas', 'url': 'http://en.wikipedia.org/wiki/Haas_F1_Team', 'name': 'Haas F1 Team', 'nationality': 'American'}]}, {'position': '20', 'positionText': '20', 'points': '0', 'wins': '0', 'Driver': {'driverId': 'hulkenberg', 'permanentNumber': '27', 'code': 'HUL', 'url': 'http://en.wikipedia.org/wiki/Nico_H%C3%BClkenberg', 'givenName': 'Nico', 'familyName': 'Hülkenberg', 'dateOfBirth': '1987-08-19', 'nationality': 'German'}, 'Constructors': [{'constructorId': 'aston_martin', 'url': 'http://en.wikipedia.org/wiki/Aston_Martin_in_Formula_One', 'name': 'Aston Martin', 'nationality': 'British'}]}, {'position': '21', 'positionText': '21', 'points': '0', 'wins': '0', 'Driver': {'driverId': 'latifi', 'permanentNumber': '6', 'code': 'LAT', 'url': 'http://en.wikipedia.org/wiki/Nicholas_Latifi', 'givenName': 'Nicholas', 'familyName': 'Latifi', 'dateOfBirth': '1995-06-29', 'nationality': 'Canadian'}, 'Constructors': [{'constructorId': 'williams', 'url': 'http://en.wikipedia.org/wiki/Williams_Grand_Prix_Engineering', 'name': 'Williams', 'nationality': 'British'}]}]\n"
     ]
    }
   ],
   "source": [
    "driver_standings_data = data['MRData']['StandingsTable']['StandingsLists'][0]['DriverStandings']\n",
    "print(driver_standings_data)"
   ]
  },
  {
   "attachments": {},
   "cell_type": "markdown",
   "id": "459823db",
   "metadata": {},
   "source": [
    "### Use a for loop to display all driver full names"
   ]
  },
  {
   "cell_type": "code",
   "execution_count": 8,
   "id": "be46a950",
   "metadata": {},
   "outputs": [
    {
     "name": "stdout",
     "output_type": "stream",
     "text": [
      "Charles Leclerc\n",
      "Max Verstappen\n",
      "Sergio Pérez\n",
      "George Russell\n",
      "Carlos Sainz\n",
      "Lewis Hamilton\n",
      "Lando Norris\n",
      "Valtteri Bottas\n",
      "Esteban Ocon\n",
      "Kevin Magnussen\n",
      "Daniel Ricciardo\n",
      "Yuki Tsunoda\n",
      "Pierre Gasly\n",
      "Sebastian Vettel\n",
      "Alexander Albon\n",
      "Fernando Alonso\n",
      "Lance Stroll\n",
      "Guanyu Zhou\n",
      "Mick Schumacher\n",
      "Nico Hülkenberg\n",
      "Nicholas Latifi\n"
     ]
    }
   ],
   "source": [
    "for driver in driver_standings_data:\n",
    "    print(f\"{driver['Driver']['givenName']} {driver['Driver']['familyName']}\")"
   ]
  },
  {
   "attachments": {},
   "cell_type": "markdown",
   "id": "43c20f0d",
   "metadata": {},
   "source": [
    "### Create a function getting certain driver info (givenName, familyName, dateOfBirth, wins, team)"
   ]
  },
  {
   "cell_type": "code",
   "execution_count": 9,
   "id": "3740c752",
   "metadata": {},
   "outputs": [
    {
     "name": "stdout",
     "output_type": "stream",
     "text": [
      "[{'first_name': 'Charles', 'last_name': 'Leclerc', 'DOB': '1997-10-16', 'wins': '2', 'team': 'Ferrari'}, {'first_name': 'Max', 'last_name': 'Verstappen', 'DOB': '1997-09-30', 'wins': '3', 'team': 'Red Bull'}, {'first_name': 'Sergio', 'last_name': 'Pérez', 'DOB': '1990-01-26', 'wins': '0', 'team': 'Red Bull'}, {'first_name': 'George', 'last_name': 'Russell', 'DOB': '1998-02-15', 'wins': '0', 'team': 'Mercedes'}, {'first_name': 'Carlos', 'last_name': 'Sainz', 'DOB': '1994-09-01', 'wins': '0', 'team': 'Ferrari'}, {'first_name': 'Lewis', 'last_name': 'Hamilton', 'DOB': '1985-01-07', 'wins': '0', 'team': 'Mercedes'}, {'first_name': 'Lando', 'last_name': 'Norris', 'DOB': '1999-11-13', 'wins': '0', 'team': 'McLaren'}, {'first_name': 'Valtteri', 'last_name': 'Bottas', 'DOB': '1989-08-28', 'wins': '0', 'team': 'Alfa Romeo'}, {'first_name': 'Esteban', 'last_name': 'Ocon', 'DOB': '1996-09-17', 'wins': '0', 'team': 'Alpine F1 Team'}, {'first_name': 'Kevin', 'last_name': 'Magnussen', 'DOB': '1992-10-05', 'wins': '0', 'team': 'Haas F1 Team'}, {'first_name': 'Daniel', 'last_name': 'Ricciardo', 'DOB': '1989-07-01', 'wins': '0', 'team': 'McLaren'}, {'first_name': 'Yuki', 'last_name': 'Tsunoda', 'DOB': '2000-05-11', 'wins': '0', 'team': 'AlphaTauri'}, {'first_name': 'Pierre', 'last_name': 'Gasly', 'DOB': '1996-02-07', 'wins': '0', 'team': 'AlphaTauri'}, {'first_name': 'Sebastian', 'last_name': 'Vettel', 'DOB': '1987-07-03', 'wins': '0', 'team': 'Aston Martin'}, {'first_name': 'Alexander', 'last_name': 'Albon', 'DOB': '1996-03-23', 'wins': '0', 'team': 'Williams'}, {'first_name': 'Fernando', 'last_name': 'Alonso', 'DOB': '1981-07-29', 'wins': '0', 'team': 'Alpine F1 Team'}, {'first_name': 'Lance', 'last_name': 'Stroll', 'DOB': '1998-10-29', 'wins': '0', 'team': 'Aston Martin'}, {'first_name': 'Guanyu', 'last_name': 'Zhou', 'DOB': '1999-05-30', 'wins': '0', 'team': 'Alfa Romeo'}, {'first_name': 'Mick', 'last_name': 'Schumacher', 'DOB': '1999-03-22', 'wins': '0', 'team': 'Haas F1 Team'}, {'first_name': 'Nico', 'last_name': 'Hülkenberg', 'DOB': '1987-08-19', 'wins': '0', 'team': 'Aston Martin'}, {'first_name': 'Nicholas', 'last_name': 'Latifi', 'DOB': '1995-06-29', 'wins': '0', 'team': 'Williams'}]\n"
     ]
    }
   ],
   "source": [
    "def get_driver_info(data):\n",
    "    new_driver_data = []\n",
    "    for driver in data:\n",
    "        driver_dict = {\n",
    "            'first_name': driver['Driver']['givenName'],\n",
    "            'last_name': driver['Driver']['familyName'],\n",
    "            'DOB': driver['Driver']['dateOfBirth'],\n",
    "            'wins': driver['wins'],\n",
    "            'team': driver['Constructors'][0]['name']\n",
    "        }\n",
    "        new_driver_data.append(driver_dict)\n",
    "    return new_driver_data\n",
    "\n",
    "print(get_driver_info(driver_standings_data))"
   ]
  },
  {
   "attachments": {},
   "cell_type": "markdown",
   "id": "1a713b13",
   "metadata": {},
   "source": [
    "### Making a more flexible function to handle different years and rounds"
   ]
  },
  {
   "cell_type": "code",
   "execution_count": 17,
   "id": "e9866280",
   "metadata": {},
   "outputs": [
    {
     "data": {
      "text/plain": [
       "[{'first_name': 'Lewis',\n",
       "  'last_name': 'Hamilton',\n",
       "  'DOB': '1985-01-07',\n",
       "  'wins': '1',\n",
       "  'team': 'Mercedes'},\n",
       " {'first_name': 'Max',\n",
       "  'last_name': 'Verstappen',\n",
       "  'DOB': '1997-09-30',\n",
       "  'wins': '1',\n",
       "  'team': 'Red Bull'},\n",
       " {'first_name': 'Lando',\n",
       "  'last_name': 'Norris',\n",
       "  'DOB': '1999-11-13',\n",
       "  'wins': '0',\n",
       "  'team': 'McLaren'},\n",
       " {'first_name': 'Charles',\n",
       "  'last_name': 'Leclerc',\n",
       "  'DOB': '1997-10-16',\n",
       "  'wins': '0',\n",
       "  'team': 'Ferrari'},\n",
       " {'first_name': 'Valtteri',\n",
       "  'last_name': 'Bottas',\n",
       "  'DOB': '1989-08-28',\n",
       "  'wins': '0',\n",
       "  'team': 'Mercedes'},\n",
       " {'first_name': 'Carlos',\n",
       "  'last_name': 'Sainz',\n",
       "  'DOB': '1994-09-01',\n",
       "  'wins': '0',\n",
       "  'team': 'Ferrari'},\n",
       " {'first_name': 'Daniel',\n",
       "  'last_name': 'Ricciardo',\n",
       "  'DOB': '1989-07-01',\n",
       "  'wins': '0',\n",
       "  'team': 'McLaren'},\n",
       " {'first_name': 'Sergio',\n",
       "  'last_name': 'Pérez',\n",
       "  'DOB': '1990-01-26',\n",
       "  'wins': '0',\n",
       "  'team': 'Red Bull'},\n",
       " {'first_name': 'Pierre',\n",
       "  'last_name': 'Gasly',\n",
       "  'DOB': '1996-02-07',\n",
       "  'wins': '0',\n",
       "  'team': 'AlphaTauri'},\n",
       " {'first_name': 'Lance',\n",
       "  'last_name': 'Stroll',\n",
       "  'DOB': '1998-10-29',\n",
       "  'wins': '0',\n",
       "  'team': 'Aston Martin'},\n",
       " {'first_name': 'Yuki',\n",
       "  'last_name': 'Tsunoda',\n",
       "  'DOB': '2000-05-11',\n",
       "  'wins': '0',\n",
       "  'team': 'AlphaTauri'},\n",
       " {'first_name': 'Esteban',\n",
       "  'last_name': 'Ocon',\n",
       "  'DOB': '1996-09-17',\n",
       "  'wins': '0',\n",
       "  'team': 'Alpine F1 Team'},\n",
       " {'first_name': 'Fernando',\n",
       "  'last_name': 'Alonso',\n",
       "  'DOB': '1981-07-29',\n",
       "  'wins': '0',\n",
       "  'team': 'Alpine F1 Team'},\n",
       " {'first_name': 'Kimi',\n",
       "  'last_name': 'Räikkönen',\n",
       "  'DOB': '1979-10-17',\n",
       "  'wins': '0',\n",
       "  'team': 'Alfa Romeo'},\n",
       " {'first_name': 'Antonio',\n",
       "  'last_name': 'Giovinazzi',\n",
       "  'DOB': '1993-12-14',\n",
       "  'wins': '0',\n",
       "  'team': 'Alfa Romeo'},\n",
       " {'first_name': 'George',\n",
       "  'last_name': 'Russell',\n",
       "  'DOB': '1998-02-15',\n",
       "  'wins': '0',\n",
       "  'team': 'Williams'},\n",
       " {'first_name': 'Sebastian',\n",
       "  'last_name': 'Vettel',\n",
       "  'DOB': '1987-07-03',\n",
       "  'wins': '0',\n",
       "  'team': 'Aston Martin'},\n",
       " {'first_name': 'Mick',\n",
       "  'last_name': 'Schumacher',\n",
       "  'DOB': '1999-03-22',\n",
       "  'wins': '0',\n",
       "  'team': 'Haas F1 Team'},\n",
       " {'first_name': 'Nikita',\n",
       "  'last_name': 'Mazepin',\n",
       "  'DOB': '1999-03-02',\n",
       "  'wins': '0',\n",
       "  'team': 'Haas F1 Team'},\n",
       " {'first_name': 'Nicholas',\n",
       "  'last_name': 'Latifi',\n",
       "  'DOB': '1995-06-29',\n",
       "  'wins': '0',\n",
       "  'team': 'Williams'}]"
      ]
     },
     "execution_count": 17,
     "metadata": {},
     "output_type": "execute_result"
    }
   ],
   "source": [
    "def get_driver_info_year_rnd(year, rnd):\n",
    "    url = f'https://ergast.com/api/f1/{year}/{rnd}/driverStandings.json'\n",
    "    response = requests.get(url)\n",
    "    if response.ok:\n",
    "        data = response.json()\n",
    "        driver_standings_data = data['MRData']['StandingsTable']['StandingsLists'][0]['DriverStandings']\n",
    "        return get_driver_info(driver_standings_data)\n",
    "    else:\n",
    "        return 'That year or round does not exist! Please try again'\n",
    "get_driver_info_year_rnd(2021,2)"
   ]
  },
  {
   "cell_type": "markdown",
   "id": "6d546014",
   "metadata": {},
   "source": [
    "# <strong>Homework</strong>\n",
    "check out this Pokemon API https://pokeapi.co/\n",
    "Use the requests package to connect to this API and get and store data for 5 different pokemon.\n",
    "Get the pokemons: name, atleast one ability's name, base_experience, and the URL for its sprite (an image that shows up on screen) for the 'front_shiny', attack base_stat, hp base_stat, defense base_stat"
   ]
  },
  {
   "cell_type": "markdown",
   "id": "e2cc2c34",
   "metadata": {},
   "source": []
  },
  {
   "cell_type": "code",
   "execution_count": 9,
   "id": "5a9081e3",
   "metadata": {},
   "outputs": [
    {
     "name": "stdout",
     "output_type": "stream",
     "text": [
      "{'charizard': {'atk_base': 84,\n",
      "               'base_experience': 267,\n",
      "               'def_base': 78,\n",
      "               'hp_base': 78,\n",
      "               'main_ability': 'blaze',\n",
      "               'sprite_url': 'https://raw.githubusercontent.com/PokeAPI/sprites/master/sprites/pokemon/shiny/6.png'},\n",
      " 'dragonair': {'atk_base': 84,\n",
      "               'base_experience': 147,\n",
      "               'def_base': 65,\n",
      "               'hp_base': 61,\n",
      "               'main_ability': 'shed-skin',\n",
      "               'sprite_url': 'https://raw.githubusercontent.com/PokeAPI/sprites/master/sprites/pokemon/shiny/148.png'},\n",
      " 'fearow': {'atk_base': 90,\n",
      "            'base_experience': 155,\n",
      "            'def_base': 65,\n",
      "            'hp_base': 65,\n",
      "            'main_ability': 'keen-eye',\n",
      "            'sprite_url': 'https://raw.githubusercontent.com/PokeAPI/sprites/master/sprites/pokemon/shiny/22.png'},\n",
      " 'mew': {'atk_base': 100,\n",
      "         'base_experience': 300,\n",
      "         'def_base': 100,\n",
      "         'hp_base': 100,\n",
      "         'main_ability': 'synchronize',\n",
      "         'sprite_url': 'https://raw.githubusercontent.com/PokeAPI/sprites/master/sprites/pokemon/shiny/151.png'},\n",
      " 'nidoking': {'atk_base': 102,\n",
      "              'base_experience': 253,\n",
      "              'def_base': 77,\n",
      "              'hp_base': 81,\n",
      "              'main_ability': 'poison-point',\n",
      "              'sprite_url': 'https://raw.githubusercontent.com/PokeAPI/sprites/master/sprites/pokemon/shiny/34.png'},\n",
      " 'snorlax': {'atk_base': 110,\n",
      "             'base_experience': 189,\n",
      "             'def_base': 65,\n",
      "             'hp_base': 160,\n",
      "             'main_ability': 'immunity',\n",
      "             'sprite_url': 'https://raw.githubusercontent.com/PokeAPI/sprites/master/sprites/pokemon/shiny/143.png'}}\n"
     ]
    }
   ],
   "source": [
    "#Favorite Gen 1 Elite 4 Team:\n",
    "#Charizard\n",
    "#Fearow\n",
    "#Nidoking\n",
    "#Snorlax\n",
    "#Mew\n",
    "#Dragonaire\n",
    "\n",
    "#Go ahead, try to beat this team. You won't...\n",
    "\n",
    "from pprint import pprint\n",
    "\n",
    "import requests\n",
    "url = \"https://pokeapi.co/api/v2/pokemon/\"\n",
    "\n",
    "\n",
    "def get_poke_info(poke_name):\n",
    "    response = requests.get(url + poke_name)\n",
    "    if response.ok:\n",
    "        data = response.json()\n",
    "        return {\n",
    "            \"main_ability\": data['abilities'][0]['ability']['name'],\n",
    "            \"base_experience\": data['base_experience'],\n",
    "            \"sprite_url\": data['sprites']['front_shiny'],\n",
    "            \"hp_base\": data['stats'][0]['base_stat'],\n",
    "            \"atk_base\": data['stats'][1]['base_stat'],\n",
    "            \"def_base\": data['stats'][2]['base_stat'],\n",
    "        }\n",
    "    else:\n",
    "        print(f\"Error getting info for {poke_name}. Status code: {response.status_code}\")\n",
    "\n",
    "\n",
    "\n",
    "elite_4 = ['charizard', 'fearow', 'nidoking', 'snorlax', 'mew', 'dragonair']\n",
    "poke_data = {}\n",
    "\n",
    "for poke in elite_4:\n",
    "    data = get_poke_info(poke)\n",
    "    if data:\n",
    "        poke_data[poke] = data\n",
    "\n",
    "pprint(poke_data)"
   ]
  }
 ],
 "metadata": {
  "kernelspec": {
   "display_name": "Python 3.10.8 64-bit (microsoft store)",
   "language": "python",
   "name": "python3"
  },
  "language_info": {
   "codemirror_mode": {
    "name": "ipython",
    "version": 3
   },
   "file_extension": ".py",
   "mimetype": "text/x-python",
   "name": "python",
   "nbconvert_exporter": "python",
   "pygments_lexer": "ipython3",
   "version": "3.11.1"
  },
  "vscode": {
   "interpreter": {
    "hash": "aa82987a71ca0339a52998cd22613b0c002bda8349fa32a0cb67ceec3936a2bf"
   }
  }
 },
 "nbformat": 4,
 "nbformat_minor": 5
}
